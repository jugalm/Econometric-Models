{
 "cells": [
  {
   "cell_type": "code",
   "execution_count": 1,
   "metadata": {},
   "outputs": [],
   "source": [
    "beetles_data = read.csv(file=\"https://raw.githubusercontent.com/jugalm/matching_estimators/master/Beetles.csv\", header = TRUE, sep = \",\")\n"
   ]
  },
  {
   "cell_type": "code",
   "execution_count": 2,
   "metadata": {},
   "outputs": [
    {
     "data": {
      "text/plain": [
       "\n",
       "Call:\n",
       "glm(formula = cbind(TotalBeetles - DeadBeetles, DeadBeetles) ~ \n",
       "    Concentration, family = binomial, data = beetles_data)\n",
       "\n",
       "Deviance Residuals: \n",
       "    Min       1Q   Median       3Q      Max  \n",
       "-1.6486  -1.2575  -0.8705   0.6270   1.5213  \n",
       "\n",
       "Coefficients:\n",
       "              Estimate Std. Error z value Pr(>|z|)    \n",
       "(Intercept)     59.869      5.108   11.72   <2e-16 ***\n",
       "Concentration  -33.784      2.870  -11.77   <2e-16 ***\n",
       "---\n",
       "Signif. codes:  0 ‘***’ 0.001 ‘**’ 0.01 ‘*’ 0.05 ‘.’ 0.1 ‘ ’ 1\n",
       "\n",
       "(Dispersion parameter for binomial family taken to be 1)\n",
       "\n",
       "    Null deviance: 280.866  on 7  degrees of freedom\n",
       "Residual deviance:  11.474  on 6  degrees of freedom\n",
       "AIC: 41.803\n",
       "\n",
       "Number of Fisher Scoring iterations: 4\n"
      ]
     },
     "metadata": {},
     "output_type": "display_data"
    }
   ],
   "source": [
    "bian1 = glm(formula = cbind(TotalBeetles - DeadBeetles, DeadBeetles) ~ Concentration, \n",
    "    family = binomial, data = beetles_data)\n",
    "summary(bian1)"
   ]
  },
  {
   "cell_type": "code",
   "execution_count": 3,
   "metadata": {},
   "outputs": [],
   "source": [
    "dr_data = read.csv(file=\"https://raw.githubusercontent.com/jugalm/matching_estimators/master/DR.csv\", header = TRUE, sep = \",\")\n"
   ]
  },
  {
   "cell_type": "code",
   "execution_count": 4,
   "metadata": {},
   "outputs": [
    {
     "data": {
      "text/plain": [
       "\n",
       "Call:\n",
       "glm(formula = Beetle ~ Concentration, family = binomial, data = dr_data)\n",
       "\n",
       "Deviance Residuals: \n",
       "    Min       1Q   Median       3Q      Max  \n",
       "-2.3718  -0.4610  -0.2128   0.6012   2.4702  \n",
       "\n",
       "Coefficients:\n",
       "              Estimate Std. Error z value Pr(>|z|)    \n",
       "(Intercept)     59.869      5.108   11.72   <2e-16 ***\n",
       "Concentration  -33.784      2.870  -11.77   <2e-16 ***\n",
       "---\n",
       "Signif. codes:  0 ‘***’ 0.001 ‘**’ 0.01 ‘*’ 0.05 ‘.’ 0.1 ‘ ’ 1\n",
       "\n",
       "(Dispersion parameter for binomial family taken to be 1)\n",
       "\n",
       "    Null deviance: 646.28  on 480  degrees of freedom\n",
       "Residual deviance: 376.89  on 479  degrees of freedom\n",
       "AIC: 380.89\n",
       "\n",
       "Number of Fisher Scoring iterations: 5\n"
      ]
     },
     "metadata": {},
     "output_type": "display_data"
    }
   ],
   "source": [
    "bern1 = glm(formula = Beetle ~ Concentration, family = binomial, data = dr_data)\n",
    "summary(bern1)"
   ]
  },
  {
   "cell_type": "code",
   "execution_count": 5,
   "metadata": {},
   "outputs": [
    {
     "data": {
      "text/plain": [
       "\n",
       "Call:\n",
       "glm(formula = Beetle ~ Concentration, family = quasibinomial, \n",
       "    data = dr_data)\n",
       "\n",
       "Deviance Residuals: \n",
       "    Min       1Q   Median       3Q      Max  \n",
       "-2.3718  -0.4610  -0.2128   0.6012   2.4702  \n",
       "\n",
       "Coefficients:\n",
       "              Estimate Std. Error t value Pr(>|t|)    \n",
       "(Intercept)     59.869      4.883   12.26   <2e-16 ***\n",
       "Concentration  -33.784      2.744  -12.31   <2e-16 ***\n",
       "---\n",
       "Signif. codes:  0 ‘***’ 0.001 ‘**’ 0.01 ‘*’ 0.05 ‘.’ 0.1 ‘ ’ 1\n",
       "\n",
       "(Dispersion parameter for quasibinomial family taken to be 0.9137527)\n",
       "\n",
       "    Null deviance: 646.28  on 480  degrees of freedom\n",
       "Residual deviance: 376.89  on 479  degrees of freedom\n",
       "AIC: NA\n",
       "\n",
       "Number of Fisher Scoring iterations: 5\n"
      ]
     },
     "metadata": {},
     "output_type": "display_data"
    }
   ],
   "source": [
    "bern2 = glm(formula = Beetle ~ Concentration, family = quasibinomial, data = dr_data)\n",
    "summary(bern2)"
   ]
  },
  {
   "cell_type": "code",
   "execution_count": 6,
   "metadata": {},
   "outputs": [
    {
     "data": {
      "text/plain": [
       "\n",
       "Call:\n",
       "glm(formula = cbind(TotalBeetles - DeadBeetles, DeadBeetles) ~ \n",
       "    Concentration, family = quasibinomial, data = beetles_data)\n",
       "\n",
       "Deviance Residuals: \n",
       "    Min       1Q   Median       3Q      Max  \n",
       "-1.6486  -1.2575  -0.8705   0.6270   1.5213  \n",
       "\n",
       "Coefficients:\n",
       "              Estimate Std. Error t value Pr(>|t|)    \n",
       "(Intercept)     59.869      6.614   9.052 0.000102 ***\n",
       "Concentration  -33.784      3.717  -9.090 9.95e-05 ***\n",
       "---\n",
       "Signif. codes:  0 ‘***’ 0.001 ‘**’ 0.01 ‘*’ 0.05 ‘.’ 0.1 ‘ ’ 1\n",
       "\n",
       "(Dispersion parameter for quasibinomial family taken to be 1.676614)\n",
       "\n",
       "    Null deviance: 280.866  on 7  degrees of freedom\n",
       "Residual deviance:  11.474  on 6  degrees of freedom\n",
       "AIC: NA\n",
       "\n",
       "Number of Fisher Scoring iterations: 4\n"
      ]
     },
     "metadata": {},
     "output_type": "display_data"
    }
   ],
   "source": [
    "bian2 = glm(formula = cbind(TotalBeetles - DeadBeetles, DeadBeetles) ~ Concentration, \n",
    "    family = quasibinomial, data = beetles_data)\n",
    "summary(bian2)"
   ]
  },
  {
   "cell_type": "code",
   "execution_count": 12,
   "metadata": {},
   "outputs": [],
   "source": [
    "beetles_data$eta2 <- predict(bian2)^2\n"
   ]
  },
  {
   "cell_type": "code",
   "execution_count": 15,
   "metadata": {},
   "outputs": [
    {
     "data": {
      "text/plain": [
       "\n",
       "Call:\n",
       "glm(formula = cbind(TotalBeetles - DeadBeetles, DeadBeetles) ~ \n",
       "    Concentration + eta2, family = quasibinomial, data = beetles_data)\n",
       "\n",
       "Deviance Residuals: \n",
       "      1        2        3        4        5        6        7        8  \n",
       " 0.4038  -0.7875   0.3063   0.4854  -1.0072   1.0848  -0.3133  -0.7950  \n",
       "\n",
       "Coefficients:\n",
       "              Estimate Std. Error t value Pr(>|t|)    \n",
       "(Intercept)    58.8974     4.6396  12.695 5.39e-05 ***\n",
       "Concentration -33.0712     2.6114 -12.664 5.46e-05 ***\n",
       "eta2           -0.1289     0.0433  -2.977   0.0309 *  \n",
       "---\n",
       "Signif. codes:  0 ‘***’ 0.001 ‘**’ 0.01 ‘*’ 0.05 ‘.’ 0.1 ‘ ’ 1\n",
       "\n",
       "(Dispersion parameter for quasibinomial family taken to be 0.7697975)\n",
       "\n",
       "    Null deviance: 280.866  on 7  degrees of freedom\n",
       "Residual deviance:   4.034  on 5  degrees of freedom\n",
       "AIC: NA\n",
       "\n",
       "Number of Fisher Scoring iterations: 4\n"
      ]
     },
     "metadata": {},
     "output_type": "display_data"
    }
   ],
   "source": [
    "bian2 = glm(formula = cbind(TotalBeetles - DeadBeetles, DeadBeetles) ~ Concentration + eta2, \n",
    "    family = quasibinomial, data = beetles_data)\n",
    "summary(bian2)"
   ]
  },
  {
   "cell_type": "code",
   "execution_count": 16,
   "metadata": {},
   "outputs": [
    {
     "data": {
      "text/html": [
       "<table>\n",
       "<thead><tr><th scope=col>Concentration</th><th scope=col>TotalBeetles</th><th scope=col>DeadBeetles</th><th scope=col>eta2</th></tr></thead>\n",
       "<tbody>\n",
       "\t<tr><td>1.6907    </td><td>59        </td><td> 6        </td><td> 7.5668422</td></tr>\n",
       "\t<tr><td>1.7242    </td><td>60        </td><td>13        </td><td> 2.6212701</td></tr>\n",
       "\t<tr><td>1.7552    </td><td>62        </td><td>18        </td><td> 0.3268836</td></tr>\n",
       "\t<tr><td>1.7842    </td><td>56        </td><td>28        </td><td> 0.1664570</td></tr>\n",
       "\t<tr><td>1.8113    </td><td>63        </td><td>52        </td><td> 1.7517346</td></tr>\n",
       "\t<tr><td>1.8369    </td><td>59        </td><td>52        </td><td> 4.7890734</td></tr>\n",
       "\t<tr><td>1.8610    </td><td>62        </td><td>61        </td><td> 9.0155082</td></tr>\n",
       "\t<tr><td>1.8839    </td><td>60        </td><td>60        </td><td>14.2599244</td></tr>\n",
       "</tbody>\n",
       "</table>\n"
      ],
      "text/latex": [
       "\\begin{tabular}{r|llll}\n",
       " Concentration & TotalBeetles & DeadBeetles & eta2\\\\\n",
       "\\hline\n",
       "\t 1.6907     & 59         &  6         &  7.5668422\\\\\n",
       "\t 1.7242     & 60         & 13         &  2.6212701\\\\\n",
       "\t 1.7552     & 62         & 18         &  0.3268836\\\\\n",
       "\t 1.7842     & 56         & 28         &  0.1664570\\\\\n",
       "\t 1.8113     & 63         & 52         &  1.7517346\\\\\n",
       "\t 1.8369     & 59         & 52         &  4.7890734\\\\\n",
       "\t 1.8610     & 62         & 61         &  9.0155082\\\\\n",
       "\t 1.8839     & 60         & 60         & 14.2599244\\\\\n",
       "\\end{tabular}\n"
      ],
      "text/markdown": [
       "\n",
       "| Concentration | TotalBeetles | DeadBeetles | eta2 |\n",
       "|---|---|---|---|\n",
       "| 1.6907     | 59         |  6         |  7.5668422 |\n",
       "| 1.7242     | 60         | 13         |  2.6212701 |\n",
       "| 1.7552     | 62         | 18         |  0.3268836 |\n",
       "| 1.7842     | 56         | 28         |  0.1664570 |\n",
       "| 1.8113     | 63         | 52         |  1.7517346 |\n",
       "| 1.8369     | 59         | 52         |  4.7890734 |\n",
       "| 1.8610     | 62         | 61         |  9.0155082 |\n",
       "| 1.8839     | 60         | 60         | 14.2599244 |\n",
       "\n"
      ],
      "text/plain": [
       "  Concentration TotalBeetles DeadBeetles eta2      \n",
       "1 1.6907        59            6           7.5668422\n",
       "2 1.7242        60           13           2.6212701\n",
       "3 1.7552        62           18           0.3268836\n",
       "4 1.7842        56           28           0.1664570\n",
       "5 1.8113        63           52           1.7517346\n",
       "6 1.8369        59           52           4.7890734\n",
       "7 1.8610        62           61           9.0155082\n",
       "8 1.8839        60           60          14.2599244"
      ]
     },
     "metadata": {},
     "output_type": "display_data"
    }
   ],
   "source": [
    "beetles_data"
   ]
  },
  {
   "cell_type": "code",
   "execution_count": null,
   "metadata": {},
   "outputs": [],
   "source": []
  }
 ],
 "metadata": {
  "kernelspec": {
   "display_name": "R",
   "language": "R",
   "name": "ir"
  },
  "language_info": {
   "codemirror_mode": "r",
   "file_extension": ".r",
   "mimetype": "text/x-r-source",
   "name": "R",
   "pygments_lexer": "r",
   "version": "3.4.4"
  }
 },
 "nbformat": 4,
 "nbformat_minor": 2
}
