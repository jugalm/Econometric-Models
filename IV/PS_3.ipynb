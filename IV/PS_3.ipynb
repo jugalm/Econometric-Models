{
 "cells": [
  {
   "cell_type": "markdown",
   "metadata": {},
   "source": [
    "# Jugal Marfatia\n",
    "# Instrumental Variable (PS 3)"
   ]
  },
  {
   "cell_type": "markdown",
   "metadata": {},
   "source": [
    "## Question 1 "
   ]
  },
  {
   "cell_type": "code",
   "execution_count": 1,
   "metadata": {},
   "outputs": [
    {
     "data": {
      "text/html": [
       "<div>\n",
       "<style scoped>\n",
       "    .dataframe tbody tr th:only-of-type {\n",
       "        vertical-align: middle;\n",
       "    }\n",
       "\n",
       "    .dataframe tbody tr th {\n",
       "        vertical-align: top;\n",
       "    }\n",
       "\n",
       "    .dataframe thead th {\n",
       "        text-align: right;\n",
       "    }\n",
       "</style>\n",
       "<table border=\"1\" class=\"dataframe\">\n",
       "  <thead>\n",
       "    <tr style=\"text-align: right;\">\n",
       "      <th></th>\n",
       "      <th>id</th>\n",
       "      <th>male</th>\n",
       "      <th>age</th>\n",
       "      <th>yrsmarr</th>\n",
       "      <th>kids</th>\n",
       "      <th>relig</th>\n",
       "      <th>educ</th>\n",
       "      <th>occup</th>\n",
       "      <th>ratemarr</th>\n",
       "      <th>naffairs</th>\n",
       "      <th>affair</th>\n",
       "      <th>vryhap</th>\n",
       "      <th>hapavg</th>\n",
       "      <th>avgmarr</th>\n",
       "      <th>unhap</th>\n",
       "      <th>vryrel</th>\n",
       "      <th>smerel</th>\n",
       "      <th>slghtrel</th>\n",
       "      <th>notrel</th>\n",
       "    </tr>\n",
       "  </thead>\n",
       "  <tbody>\n",
       "    <tr>\n",
       "      <th>0</th>\n",
       "      <td>4</td>\n",
       "      <td>1</td>\n",
       "      <td>37.0</td>\n",
       "      <td>10.0</td>\n",
       "      <td>0</td>\n",
       "      <td>3</td>\n",
       "      <td>18</td>\n",
       "      <td>7</td>\n",
       "      <td>4</td>\n",
       "      <td>0</td>\n",
       "      <td>0</td>\n",
       "      <td>0</td>\n",
       "      <td>1</td>\n",
       "      <td>0</td>\n",
       "      <td>0</td>\n",
       "      <td>0</td>\n",
       "      <td>0</td>\n",
       "      <td>1</td>\n",
       "      <td>0</td>\n",
       "    </tr>\n",
       "    <tr>\n",
       "      <th>1</th>\n",
       "      <td>5</td>\n",
       "      <td>0</td>\n",
       "      <td>27.0</td>\n",
       "      <td>4.0</td>\n",
       "      <td>0</td>\n",
       "      <td>4</td>\n",
       "      <td>14</td>\n",
       "      <td>6</td>\n",
       "      <td>4</td>\n",
       "      <td>0</td>\n",
       "      <td>0</td>\n",
       "      <td>0</td>\n",
       "      <td>1</td>\n",
       "      <td>0</td>\n",
       "      <td>0</td>\n",
       "      <td>0</td>\n",
       "      <td>1</td>\n",
       "      <td>0</td>\n",
       "      <td>0</td>\n",
       "    </tr>\n",
       "    <tr>\n",
       "      <th>2</th>\n",
       "      <td>6</td>\n",
       "      <td>1</td>\n",
       "      <td>27.0</td>\n",
       "      <td>1.5</td>\n",
       "      <td>0</td>\n",
       "      <td>3</td>\n",
       "      <td>18</td>\n",
       "      <td>4</td>\n",
       "      <td>4</td>\n",
       "      <td>3</td>\n",
       "      <td>1</td>\n",
       "      <td>0</td>\n",
       "      <td>1</td>\n",
       "      <td>0</td>\n",
       "      <td>0</td>\n",
       "      <td>0</td>\n",
       "      <td>0</td>\n",
       "      <td>1</td>\n",
       "      <td>0</td>\n",
       "    </tr>\n",
       "    <tr>\n",
       "      <th>3</th>\n",
       "      <td>11</td>\n",
       "      <td>0</td>\n",
       "      <td>32.0</td>\n",
       "      <td>15.0</td>\n",
       "      <td>1</td>\n",
       "      <td>1</td>\n",
       "      <td>12</td>\n",
       "      <td>1</td>\n",
       "      <td>4</td>\n",
       "      <td>0</td>\n",
       "      <td>0</td>\n",
       "      <td>0</td>\n",
       "      <td>1</td>\n",
       "      <td>0</td>\n",
       "      <td>0</td>\n",
       "      <td>0</td>\n",
       "      <td>0</td>\n",
       "      <td>0</td>\n",
       "      <td>0</td>\n",
       "    </tr>\n",
       "    <tr>\n",
       "      <th>4</th>\n",
       "      <td>12</td>\n",
       "      <td>0</td>\n",
       "      <td>27.0</td>\n",
       "      <td>4.0</td>\n",
       "      <td>1</td>\n",
       "      <td>3</td>\n",
       "      <td>17</td>\n",
       "      <td>1</td>\n",
       "      <td>5</td>\n",
       "      <td>3</td>\n",
       "      <td>1</td>\n",
       "      <td>1</td>\n",
       "      <td>0</td>\n",
       "      <td>0</td>\n",
       "      <td>0</td>\n",
       "      <td>0</td>\n",
       "      <td>0</td>\n",
       "      <td>1</td>\n",
       "      <td>0</td>\n",
       "    </tr>\n",
       "  </tbody>\n",
       "</table>\n",
       "</div>"
      ],
      "text/plain": [
       "   id  male   age  yrsmarr  kids  relig  educ  occup  ratemarr  naffairs  \\\n",
       "0   4     1  37.0     10.0     0      3    18      7         4         0   \n",
       "1   5     0  27.0      4.0     0      4    14      6         4         0   \n",
       "2   6     1  27.0      1.5     0      3    18      4         4         3   \n",
       "3  11     0  32.0     15.0     1      1    12      1         4         0   \n",
       "4  12     0  27.0      4.0     1      3    17      1         5         3   \n",
       "\n",
       "   affair  vryhap  hapavg  avgmarr  unhap  vryrel  smerel  slghtrel  notrel  \n",
       "0       0       0       1        0      0       0       0         1       0  \n",
       "1       0       0       1        0      0       0       1         0       0  \n",
       "2       1       0       1        0      0       0       0         1       0  \n",
       "3       0       0       1        0      0       0       0         0       0  \n",
       "4       1       1       0        0      0       0       0         1       0  "
      ]
     },
     "execution_count": 1,
     "metadata": {},
     "output_type": "execute_result"
    }
   ],
   "source": [
    "import pandas as pd\n",
    "\n",
    "df = pd.read_excel('/Users/jugalmarfatia/Downloads/excelfiles/affairs.xls')\n",
    "\n",
    "df = df.rename(columns=lambda x: x.strip())\n",
    "df.head()"
   ]
  },
  {
   "cell_type": "markdown",
   "metadata": {},
   "source": [
    "## A. Regression \n",
    "\n",
    "$ Kids_i = \\alpha_0 + \\alpha_1 \\space{ } Age_{i}+ \\alpha_2 \\space{ } Yrsmarr_{i} + e_i$ "
   ]
  },
  {
   "cell_type": "code",
   "execution_count": 2,
   "metadata": {},
   "outputs": [
    {
     "name": "stdout",
     "output_type": "stream",
     "text": [
      "                            OLS Regression Results                            \n",
      "==============================================================================\n",
      "Dep. Variable:                   kids   R-squared:                       0.330\n",
      "Model:                            OLS   Adj. R-squared:                  0.327\n",
      "Method:                 Least Squares   F-statistic:                     147.0\n",
      "Date:                Fri, 21 Sep 2018   Prob (F-statistic):           1.21e-52\n",
      "Time:                        13:29:51   Log-Likelihood:                -254.32\n",
      "No. Observations:                 601   AIC:                             514.6\n",
      "Df Residuals:                     598   BIC:                             527.8\n",
      "Df Model:                           2                                         \n",
      "Covariance Type:            nonrobust                                         \n",
      "==============================================================================\n",
      "                 coef    std err          t      P>|t|      [0.025      0.975]\n",
      "------------------------------------------------------------------------------\n",
      "Intercept      0.3990      0.063      6.364      0.000       0.276       0.522\n",
      "age           -0.0029      0.003     -1.116      0.265      -0.008       0.002\n",
      "yrsmarr        0.0502      0.004     11.626      0.000       0.042       0.059\n",
      "==============================================================================\n",
      "Omnibus:                       18.966   Durbin-Watson:                   2.076\n",
      "Prob(Omnibus):                  0.000   Jarque-Bera (JB):               15.057\n",
      "Skew:                          -0.300   Prob(JB):                     0.000538\n",
      "Kurtosis:                       2.508   Cond. No.                         145.\n",
      "==============================================================================\n",
      "\n",
      "Warnings:\n",
      "[1] Standard Errors assume that the covariance matrix of the errors is correctly specified.\n"
     ]
    }
   ],
   "source": [
    "import statsmodels.formula.api as sm\n",
    "\n",
    "ols = sm.ols(formula=\"kids ~ age + yrsmarr\", data=df).fit()\n",
    "\n",
    "print(ols.summary())"
   ]
  },
  {
   "cell_type": "markdown",
   "metadata": {},
   "source": [
    "## B. Regression \n",
    "### First run two regressions:\n",
    "\n",
    "$Kids_i = \\alpha_0 + \\alpha_1 \\space{ } Age_{i} + e_i$ \n",
    "\n",
    "\n",
    "$Age_i = \\beta_0 + \\beta_1  \\space{ } Yrsmarr_{i} + u_i$ \n",
    "\n",
    "\n",
    "Predict $\\hat{e}_i $ and  $\\hat{u}_i $\n",
    "\n",
    "### Run regression:\n",
    "$ \\hat{e}_i = \\theta_0 + \\theta_1  \\space{ } \\hat{u}_i + v_i$"
   ]
  },
  {
   "cell_type": "code",
   "execution_count": 3,
   "metadata": {},
   "outputs": [
    {
     "name": "stdout",
     "output_type": "stream",
     "text": [
      "                            OLS Regression Results                            \n",
      "==============================================================================\n",
      "Dep. Variable:             kids_error   R-squared:                       0.111\n",
      "Model:                            OLS   Adj. R-squared:                  0.110\n",
      "Method:                 Least Squares   F-statistic:                     75.14\n",
      "Date:                Fri, 21 Sep 2018   Prob (F-statistic):           4.10e-17\n",
      "Time:                        13:29:52   Log-Likelihood:                -280.04\n",
      "No. Observations:                 601   AIC:                             564.1\n",
      "Df Residuals:                     599   BIC:                             572.9\n",
      "Df Model:                           1                                         \n",
      "Covariance Type:            nonrobust                                         \n",
      "==============================================================================\n",
      "                 coef    std err          t      P>|t|      [0.025      0.975]\n",
      "------------------------------------------------------------------------------\n",
      "Intercept   1.023e-16      0.016    6.5e-15      1.000      -0.031       0.031\n",
      "age_error     -0.0234      0.003     -8.668      0.000      -0.029      -0.018\n",
      "==============================================================================\n",
      "Omnibus:                      138.122   Durbin-Watson:                   2.069\n",
      "Prob(Omnibus):                  0.000   Jarque-Bera (JB):               77.054\n",
      "Skew:                          -0.740   Prob(JB):                     1.85e-17\n",
      "Kurtosis:                       2.057   Cond. No.                         5.84\n",
      "==============================================================================\n",
      "\n",
      "Warnings:\n",
      "[1] Standard Errors assume that the covariance matrix of the errors is correctly specified.\n"
     ]
    }
   ],
   "source": [
    "ols_y = sm.ols(formula=\"kids ~ age \", data=df).fit()\n",
    "ols_x1 = sm.ols(formula=\"age ~ yrsmarr\", data=df).fit()\n",
    "\n",
    "df['kids_error'] = df['kids'] - ols_y.predict()\n",
    "df['age_error'] = df['age'] - ols_x1.predict()\n",
    "\n",
    "ols = sm.ols(formula=\"kids_error ~ age_error\", data=df).fit()\n",
    "\n",
    "print(ols.summary())"
   ]
  },
  {
   "cell_type": "markdown",
   "metadata": {},
   "source": [
    "## C. Regression \n",
    "### Run regressions:\n",
    "\n",
    "$ Kids_i = \\omega_0 + \\omega_1 \\space{ } \\hat{u}_i + v_i$ \n",
    "\n",
    "\n"
   ]
  },
  {
   "cell_type": "code",
   "execution_count": 4,
   "metadata": {},
   "outputs": [
    {
     "name": "stdout",
     "output_type": "stream",
     "text": [
      "                            OLS Regression Results                            \n",
      "==============================================================================\n",
      "Dep. Variable:                   kids   R-squared:                       0.001\n",
      "Model:                            OLS   Adj. R-squared:                 -0.000\n",
      "Method:                 Least Squares   F-statistic:                    0.8372\n",
      "Date:                Fri, 21 Sep 2018   Prob (F-statistic):              0.361\n",
      "Time:                        13:29:52   Log-Likelihood:                -374.04\n",
      "No. Observations:                 601   AIC:                             752.1\n",
      "Df Residuals:                     599   BIC:                             760.9\n",
      "Df Model:                           1                                         \n",
      "Covariance Type:            nonrobust                                         \n",
      "==============================================================================\n",
      "                 coef    std err          t      P>|t|      [0.025      0.975]\n",
      "------------------------------------------------------------------------------\n",
      "Intercept      0.7155      0.018     38.838      0.000       0.679       0.752\n",
      "age_error     -0.0029      0.003     -0.915      0.361      -0.009       0.003\n",
      "==============================================================================\n",
      "Omnibus:                      261.852   Durbin-Watson:                   2.049\n",
      "Prob(Omnibus):                  0.000   Jarque-Bera (JB):              120.379\n",
      "Skew:                          -0.952   Prob(JB):                     7.25e-27\n",
      "Kurtosis:                       1.914   Cond. No.                         5.84\n",
      "==============================================================================\n",
      "\n",
      "Warnings:\n",
      "[1] Standard Errors assume that the covariance matrix of the errors is correctly specified.\n"
     ]
    }
   ],
   "source": [
    "ols = sm.ols(formula=\"kids ~ age_error\", data=df).fit()\n",
    "\n",
    "print(ols.summary())"
   ]
  },
  {
   "cell_type": "markdown",
   "metadata": {},
   "source": [
    "### Yes they are the same because:\n",
    "$u_i = Age_i - \\beta_0 + \\beta_1  \\space{ } Yrsmarr_{i}$\n",
    "\n",
    "Therefore:\n",
    "\n",
    "$Kids_i = \\omega_0 + \\omega_1 \\space{ } \\hat{u}_i + v_i = \\omega_0 + \\omega_1 (Age_i - \\beta_0 + \\beta_1  \\space{ } Yrsmarr_{i}) + v_i$\n",
    "\n",
    "Implies: We get the same coeffecient estimates."
   ]
  },
  {
   "cell_type": "markdown",
   "metadata": {},
   "source": [
    "## Question 2"
   ]
  },
  {
   "cell_type": "markdown",
   "metadata": {},
   "source": [
    "## IV estimate using GMM"
   ]
  },
  {
   "cell_type": "code",
   "execution_count": 5,
   "metadata": {},
   "outputs": [
    {
     "name": "stdout",
     "output_type": "stream",
     "text": [
      "                          IV-GMM Estimation Summary                           \n",
      "==============================================================================\n",
      "Dep. Variable:                   kids   R-squared:                      0.0789\n",
      "Estimator:                     IV-GMM   Adj. R-squared:                 0.0774\n",
      "No. Observations:                 601   F-statistic:                    225.97\n",
      "Date:                Fri, Sep 21 2018   P-value (F-stat)                0.0000\n",
      "Time:                        13:29:52   Distribution:                  chi2(1)\n",
      "Cov. Estimator:                robust                                         \n",
      "                                                                              \n",
      "                             Parameter Estimates                              \n",
      "==============================================================================\n",
      "            Parameter  Std. Err.     T-stat    P-value    Lower CI    Upper CI\n",
      "------------------------------------------------------------------------------\n",
      "Intercept     -0.4481     0.0834    -5.3700     0.0000     -0.6117     -0.2846\n",
      "age            0.0358     0.0024     15.032     0.0000      0.0311      0.0405\n",
      "==============================================================================\n",
      "\n",
      "Endogenous: age\n",
      "Instruments: yrsmarr\n",
      "GMM Covariance\n",
      "Debiased: False\n",
      "Robust (Heteroskedastic)\n"
     ]
    }
   ],
   "source": [
    "from linearmodels.iv import IVGMM\n",
    "\n",
    "mod = IVGMM.from_formula(formula=\"kids ~ 1 + [age ~  yrsmarr]\", data=df).fit()\n",
    "\n",
    "print(mod.summary)"
   ]
  },
  {
   "cell_type": "markdown",
   "metadata": {},
   "source": [
    "## IV estimate using 2SLS"
   ]
  },
  {
   "cell_type": "code",
   "execution_count": 6,
   "metadata": {},
   "outputs": [
    {
     "name": "stdout",
     "output_type": "stream",
     "text": [
      "                            OLS Regression Results                            \n",
      "==============================================================================\n",
      "Dep. Variable:                   kids   R-squared:                       0.328\n",
      "Model:                            OLS   Adj. R-squared:                  0.327\n",
      "Method:                 Least Squares   F-statistic:                     292.6\n",
      "Date:                Fri, 21 Sep 2018   Prob (F-statistic):           1.04e-53\n",
      "Time:                        13:29:52   Log-Likelihood:                -254.94\n",
      "No. Observations:                 601   AIC:                             513.9\n",
      "Df Residuals:                     599   BIC:                             522.7\n",
      "Df Model:                           1                                         \n",
      "Covariance Type:            nonrobust                                         \n",
      "==============================================================================\n",
      "                 coef    std err          t      P>|t|      [0.025      0.975]\n",
      "------------------------------------------------------------------------------\n",
      "Intercept     -0.4481      0.070     -6.431      0.000      -0.585      -0.311\n",
      "age_hat        0.0358      0.002     17.105      0.000       0.032       0.040\n",
      "==============================================================================\n",
      "Omnibus:                       19.672   Durbin-Watson:                   2.083\n",
      "Prob(Omnibus):                  0.000   Jarque-Bera (JB):               15.594\n",
      "Skew:                          -0.306   Prob(JB):                     0.000411\n",
      "Kurtosis:                       2.502   Cond. No.                         154.\n",
      "==============================================================================\n",
      "\n",
      "Warnings:\n",
      "[1] Standard Errors assume that the covariance matrix of the errors is correctly specified.\n"
     ]
    }
   ],
   "source": [
    "ols = sm.ols(formula=\"age ~ yrsmarr\", data=df).fit()\n",
    "df['age_hat'] = ols.predict()\n",
    "\n",
    "ols = sm.ols(formula=\"kids ~ age_hat\", data=df).fit()\n",
    "\n",
    "print(ols.summary())"
   ]
  },
  {
   "cell_type": "markdown",
   "metadata": {},
   "source": [
    "## IV using Coeffecient ratio i.e.  \n",
    "\n",
    "$\\beta_{iv} = \\frac{\\beta_{yz}}{\\beta_{xz}} $"
   ]
  },
  {
   "cell_type": "code",
   "execution_count": 7,
   "metadata": {},
   "outputs": [
    {
     "name": "stdout",
     "output_type": "stream",
     "text": [
      "Beta_IV_beta_ratio: 0.035816413472169316\n"
     ]
    }
   ],
   "source": [
    "ols = sm.ols(formula=\"age ~ yrsmarr\", data=df).fit()\n",
    "ols1 = sm.ols(formula=\"kids ~ yrsmarr\", data=df).fit()\n",
    "\n",
    "print(\"Beta_IV_beta_ratio: \" +  str(ols1.params[1]/ols.params[1]))\n"
   ]
  },
  {
   "cell_type": "markdown",
   "metadata": {},
   "source": [
    "## IV using sample covariance ratio i.e.  \n",
    "\n",
    "$\\beta_{iv} = \\frac{scov(y,z)}{scov(x,z)} $"
   ]
  },
  {
   "cell_type": "code",
   "execution_count": 8,
   "metadata": {},
   "outputs": [
    {
     "name": "stdout",
     "output_type": "stream",
     "text": [
      "Beta_IV_scov_ratio: 0.03581641347216924\n"
     ]
    }
   ],
   "source": [
    "scov_zx = df[['age', 'yrsmarr']].cov()\n",
    "scov_zy = df[['kids', 'yrsmarr']].cov()\n",
    "\n",
    "print(\"Beta_IV_scov_ratio: \" +  str(scov_zy.loc['kids', 'yrsmarr']/scov_zx.loc['age', 'yrsmarr']))\n"
   ]
  },
  {
   "cell_type": "markdown",
   "metadata": {},
   "source": [
    "## The results from above four methods show that indeed we get the same IV estimates using the different techinques. "
   ]
  }
 ],
 "metadata": {
  "kernelspec": {
   "display_name": "Python 3",
   "language": "python",
   "name": "python3"
  },
  "language_info": {
   "codemirror_mode": {
    "name": "ipython",
    "version": 3
   },
   "file_extension": ".py",
   "mimetype": "text/x-python",
   "name": "python",
   "nbconvert_exporter": "python",
   "pygments_lexer": "ipython3",
   "version": "3.6.5"
  }
 },
 "nbformat": 4,
 "nbformat_minor": 2
}
