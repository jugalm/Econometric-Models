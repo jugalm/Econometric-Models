{
 "cells": [
  {
   "cell_type": "markdown",
   "metadata": {},
   "source": [
    "# PS 8 Jugal Marfatia\n",
    "## Import data"
   ]
  },
  {
   "cell_type": "code",
   "execution_count": 1,
   "metadata": {},
   "outputs": [
    {
     "name": "stdout",
     "output_type": "stream",
     "text": [
      "\n",
      "J. Mullahy (1997), \"Instrumental-Variable Estimation of Count Data Models:\n",
      "Applications to Models of Cigarette Smoking Behavior,\" Review of Economics\n",
      "and Statistics 79, 596-593.\n",
      "\n",
      "faminc                   1988 family income, $1000s\n",
      "cigtax                   cig. tax in home state, 1988\n",
      "cigprice                 cig. price in home state, 1988\n",
      "bwght                    birth weight, ounces\n",
      "fatheduc                 father's yrs of educ\n",
      "motheduc                 mother's yrs of educ\n",
      "parity                   birth order of child\n",
      "male                     =1 if male child\n",
      "white                    =1 if white\n",
      "cigs                     cigs smked per day while preg\n",
      "lbwght                   log of bwght\n",
      "bwghtlbs                 birth weight, pounds\n",
      "packs                    packs smked per day while preg\n",
      "faminc                   log(faminc)\n",
      "\n"
     ]
    }
   ],
   "source": [
    "from linearmodels.datasets import birthweight\n",
    "\n",
    "data = birthweight.load()\n",
    "print(birthweight.DESCR)\n",
    "data['const'] = 1\n"
   ]
  },
  {
   "cell_type": "markdown",
   "metadata": {},
   "source": [
    "## OLS ESTIMATOR \n",
    "### $ log(bwght) = \\alpha_0 + \\alpha_1 packs $"
   ]
  },
  {
   "cell_type": "code",
   "execution_count": 2,
   "metadata": {},
   "outputs": [
    {
     "name": "stdout",
     "output_type": "stream",
     "text": [
      "                            OLS Estimation Summary                            \n",
      "==============================================================================\n",
      "Dep. Variable:                  bwght   R-squared:                      0.0035\n",
      "Estimator:                        OLS   Adj. R-squared:                 0.0028\n",
      "No. Observations:                1388   F-statistic:                    4.8393\n",
      "Date:                Tue, Nov 13 2018   P-value (F-stat)                0.0278\n",
      "Time:                        14:20:35   Distribution:                  chi2(1)\n",
      "Cov. Estimator:            unadjusted                                         \n",
      "                                                                              \n",
      "                             Parameter Estimates                              \n",
      "==============================================================================\n",
      "            Parameter  Std. Err.     T-stat    P-value    Lower CI    Upper CI\n",
      "------------------------------------------------------------------------------\n",
      "const          4.7620     0.0052     918.18     0.0000      4.7519      4.7722\n",
      "packs         -0.0012     0.0005    -2.1998     0.0278     -0.0023     -0.0001\n",
      "==============================================================================\n"
     ]
    }
   ],
   "source": [
    "from linearmodels import IV2SLS\n",
    "import numpy as np \n",
    "\n",
    "res = IV2SLS(np.log(data.bwght), data[['const', 'packs']], None, None).fit(cov_type='unadjusted')\n",
    "print(res)"
   ]
  },
  {
   "cell_type": "markdown",
   "metadata": {},
   "source": [
    "## IV 2SLS ESTIMATOR\n",
    "\n",
    "### $ log of bwght=\\alpha_0+\\alpha_1packs$\n",
    "### $ packs = \\beta_0+\\beta_1cigprice $"
   ]
  },
  {
   "cell_type": "code",
   "execution_count": 3,
   "metadata": {},
   "outputs": [
    {
     "name": "stdout",
     "output_type": "stream",
     "text": [
      "                          IV-2SLS Estimation Summary                          \n",
      "==============================================================================\n",
      "Dep. Variable:                  bwght   R-squared:                     -1.5224\n",
      "Estimator:                    IV-2SLS   Adj. R-squared:                -1.5242\n",
      "No. Observations:                1388   F-statistic:                    1.1356\n",
      "Date:                Tue, Nov 13 2018   P-value (F-stat)                0.2866\n",
      "Time:                        14:20:35   Distribution:                  chi2(1)\n",
      "Cov. Estimator:            unadjusted                                         \n",
      "                                                                              \n",
      "                             Parameter Estimates                              \n",
      "==============================================================================\n",
      "            Parameter  Std. Err.     T-stat    P-value    Lower CI    Upper CI\n",
      "------------------------------------------------------------------------------\n",
      "const          4.7203     0.0381     123.80     0.0000      4.6456      4.7951\n",
      "packs          0.0238     0.0223     1.0656     0.2866     -0.0199      0.0675\n",
      "==============================================================================\n",
      "\n",
      "Endogenous: packs\n",
      "Instruments: cigprice\n",
      "Unadjusted Covariance (Homoskedastic)\n",
      "Debiased: False\n"
     ]
    }
   ],
   "source": [
    "res = IV2SLS(np.log(data.bwght), data.const, data.packs, data.cigprice).fit(cov_type='unadjusted')\n",
    "print(res)"
   ]
  },
  {
   "cell_type": "code",
   "execution_count": 4,
   "metadata": {},
   "outputs": [],
   "source": [
    "data['y_hat'] = (res.predict())\n",
    "data['e_hat'] = data.bwght - data['y_hat'] "
   ]
  },
  {
   "cell_type": "markdown",
   "metadata": {},
   "source": [
    "## Bias of the IV estimate"
   ]
  },
  {
   "cell_type": "code",
   "execution_count": 5,
   "metadata": {},
   "outputs": [
    {
     "name": "stdout",
     "output_type": "stream",
     "text": [
      "Beta_IV bias = cov(x,e)/ var(e) = : 0.9991328218088861\n"
     ]
    }
   ],
   "source": [
    "scov_ze = data[['bwght', 'e_hat']].cov()\n",
    "\n",
    "print(\"Beta_IV bias = cov(x,e)/ var(e) = : \" +  str(scov_ze.loc['bwght', 'e_hat']/scov_ze.loc['e_hat', 'e_hat']))\n"
   ]
  },
  {
   "cell_type": "code",
   "execution_count": null,
   "metadata": {},
   "outputs": [],
   "source": []
  }
 ],
 "metadata": {
  "kernelspec": {
   "display_name": "Python 3",
   "language": "python",
   "name": "python3"
  },
  "language_info": {
   "codemirror_mode": {
    "name": "ipython",
    "version": 3
   },
   "file_extension": ".py",
   "mimetype": "text/x-python",
   "name": "python",
   "nbconvert_exporter": "python",
   "pygments_lexer": "ipython3",
   "version": "3.6.5"
  }
 },
 "nbformat": 4,
 "nbformat_minor": 2
}
