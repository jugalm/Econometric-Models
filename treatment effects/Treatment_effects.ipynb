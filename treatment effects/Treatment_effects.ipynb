{
 "cells": [
  {
   "cell_type": "markdown",
   "metadata": {},
   "source": [
    "# PROBLEM SET 2"
   ]
  },
  {
   "cell_type": "code",
   "execution_count": 1,
   "metadata": {
    "collapsed": false
   },
   "outputs": [],
   "source": [
    "import pandas as pd\n",
    "import numpy as np\n",
    "\n",
    "\n",
    "df = pd.read_csv('/Users/jugalmarfatia/Documents/fall 2018/econometrics_2/matching_estimators/matching_estimators/bwght2.csv')"
   ]
  },
  {
   "cell_type": "markdown",
   "metadata": {},
   "source": [
    "## Drop null values and display first 5 rows to check dataset.\n",
    " "
   ]
  },
  {
   "cell_type": "code",
   "execution_count": 2,
   "metadata": {
    "collapsed": false
   },
   "outputs": [
    {
     "data": {
      "text/html": [
       "<div>\n",
       "<table border=\"1\" class=\"dataframe\">\n",
       "  <thead>\n",
       "    <tr style=\"text-align: right;\">\n",
       "      <th></th>\n",
       "      <th>mage</th>\n",
       "      <th>meduc</th>\n",
       "      <th>monpre</th>\n",
       "      <th>npvis</th>\n",
       "      <th>fage</th>\n",
       "      <th>feduc</th>\n",
       "      <th>bwght</th>\n",
       "      <th>omaps</th>\n",
       "      <th>fmaps</th>\n",
       "      <th>cigs</th>\n",
       "      <th>...</th>\n",
       "      <th>male</th>\n",
       "      <th>mwhte</th>\n",
       "      <th>mblck</th>\n",
       "      <th>moth</th>\n",
       "      <th>fwhte</th>\n",
       "      <th>fblck</th>\n",
       "      <th>foth</th>\n",
       "      <th>lbwght</th>\n",
       "      <th>magesq</th>\n",
       "      <th>npvissq</th>\n",
       "    </tr>\n",
       "  </thead>\n",
       "  <tbody>\n",
       "    <tr>\n",
       "      <th>0</th>\n",
       "      <td>26</td>\n",
       "      <td>12.0</td>\n",
       "      <td>2.0</td>\n",
       "      <td>12.0</td>\n",
       "      <td>34.0</td>\n",
       "      <td>16.0</td>\n",
       "      <td>3060</td>\n",
       "      <td>9.0</td>\n",
       "      <td>9.0</td>\n",
       "      <td>0.0</td>\n",
       "      <td>...</td>\n",
       "      <td>1</td>\n",
       "      <td>0</td>\n",
       "      <td>0</td>\n",
       "      <td>1</td>\n",
       "      <td>0</td>\n",
       "      <td>0</td>\n",
       "      <td>1</td>\n",
       "      <td>8.026170</td>\n",
       "      <td>676</td>\n",
       "      <td>144.0</td>\n",
       "    </tr>\n",
       "    <tr>\n",
       "      <th>2</th>\n",
       "      <td>33</td>\n",
       "      <td>12.0</td>\n",
       "      <td>1.0</td>\n",
       "      <td>12.0</td>\n",
       "      <td>36.0</td>\n",
       "      <td>16.0</td>\n",
       "      <td>2530</td>\n",
       "      <td>8.0</td>\n",
       "      <td>9.0</td>\n",
       "      <td>0.0</td>\n",
       "      <td>...</td>\n",
       "      <td>0</td>\n",
       "      <td>1</td>\n",
       "      <td>0</td>\n",
       "      <td>0</td>\n",
       "      <td>1</td>\n",
       "      <td>0</td>\n",
       "      <td>0</td>\n",
       "      <td>7.835975</td>\n",
       "      <td>1089</td>\n",
       "      <td>144.0</td>\n",
       "    </tr>\n",
       "    <tr>\n",
       "      <th>3</th>\n",
       "      <td>28</td>\n",
       "      <td>17.0</td>\n",
       "      <td>5.0</td>\n",
       "      <td>8.0</td>\n",
       "      <td>32.0</td>\n",
       "      <td>17.0</td>\n",
       "      <td>3289</td>\n",
       "      <td>8.0</td>\n",
       "      <td>9.0</td>\n",
       "      <td>0.0</td>\n",
       "      <td>...</td>\n",
       "      <td>1</td>\n",
       "      <td>1</td>\n",
       "      <td>0</td>\n",
       "      <td>0</td>\n",
       "      <td>1</td>\n",
       "      <td>0</td>\n",
       "      <td>0</td>\n",
       "      <td>8.098339</td>\n",
       "      <td>784</td>\n",
       "      <td>64.0</td>\n",
       "    </tr>\n",
       "    <tr>\n",
       "      <th>4</th>\n",
       "      <td>23</td>\n",
       "      <td>13.0</td>\n",
       "      <td>2.0</td>\n",
       "      <td>6.0</td>\n",
       "      <td>24.0</td>\n",
       "      <td>16.0</td>\n",
       "      <td>3590</td>\n",
       "      <td>6.0</td>\n",
       "      <td>8.0</td>\n",
       "      <td>0.0</td>\n",
       "      <td>...</td>\n",
       "      <td>1</td>\n",
       "      <td>1</td>\n",
       "      <td>0</td>\n",
       "      <td>0</td>\n",
       "      <td>1</td>\n",
       "      <td>0</td>\n",
       "      <td>0</td>\n",
       "      <td>8.185907</td>\n",
       "      <td>529</td>\n",
       "      <td>36.0</td>\n",
       "    </tr>\n",
       "    <tr>\n",
       "      <th>5</th>\n",
       "      <td>28</td>\n",
       "      <td>12.0</td>\n",
       "      <td>1.0</td>\n",
       "      <td>12.0</td>\n",
       "      <td>30.0</td>\n",
       "      <td>16.0</td>\n",
       "      <td>3420</td>\n",
       "      <td>9.0</td>\n",
       "      <td>9.0</td>\n",
       "      <td>0.0</td>\n",
       "      <td>...</td>\n",
       "      <td>0</td>\n",
       "      <td>1</td>\n",
       "      <td>0</td>\n",
       "      <td>0</td>\n",
       "      <td>1</td>\n",
       "      <td>0</td>\n",
       "      <td>0</td>\n",
       "      <td>8.137396</td>\n",
       "      <td>784</td>\n",
       "      <td>144.0</td>\n",
       "    </tr>\n",
       "  </tbody>\n",
       "</table>\n",
       "<p>5 rows × 23 columns</p>\n",
       "</div>"
      ],
      "text/plain": [
       "   mage  meduc  monpre  npvis  fage  feduc  bwght  omaps  fmaps  cigs  \\\n",
       "0    26   12.0     2.0   12.0  34.0   16.0   3060    9.0    9.0   0.0   \n",
       "2    33   12.0     1.0   12.0  36.0   16.0   2530    8.0    9.0   0.0   \n",
       "3    28   17.0     5.0    8.0  32.0   17.0   3289    8.0    9.0   0.0   \n",
       "4    23   13.0     2.0    6.0  24.0   16.0   3590    6.0    8.0   0.0   \n",
       "5    28   12.0     1.0   12.0  30.0   16.0   3420    9.0    9.0   0.0   \n",
       "\n",
       "    ...     male  mwhte  mblck  moth  fwhte  fblck  foth    lbwght  magesq  \\\n",
       "0   ...        1      0      0     1      0      0     1  8.026170     676   \n",
       "2   ...        0      1      0     0      1      0     0  7.835975    1089   \n",
       "3   ...        1      1      0     0      1      0     0  8.098339     784   \n",
       "4   ...        1      1      0     0      1      0     0  8.185907     529   \n",
       "5   ...        0      1      0     0      1      0     0  8.137396     784   \n",
       "\n",
       "   npvissq  \n",
       "0    144.0  \n",
       "2    144.0  \n",
       "3     64.0  \n",
       "4     36.0  \n",
       "5    144.0  \n",
       "\n",
       "[5 rows x 23 columns]"
      ]
     },
     "execution_count": 2,
     "metadata": {},
     "output_type": "execute_result"
    }
   ],
   "source": [
    "df = df.dropna()\n",
    "df.head()"
   ]
  },
  {
   "cell_type": "markdown",
   "metadata": {},
   "source": [
    "## Create dummy variable for ever smoked"
   ]
  },
  {
   "cell_type": "code",
   "execution_count": 3,
   "metadata": {
    "collapsed": true
   },
   "outputs": [],
   "source": [
    "df['cigs_dummy'] = (df['cigs'] > 0).astype(int)"
   ]
  },
  {
   "cell_type": "markdown",
   "metadata": {},
   "source": [
    "## Difference in log birthweight of smokers vs non-smokers"
   ]
  },
  {
   "cell_type": "code",
   "execution_count": 4,
   "metadata": {
    "collapsed": false
   },
   "outputs": [],
   "source": [
    "s_lbwght, ns_lbwght = df.groupby('cigs_dummy')['lbwght'].mean()\n",
    "\n",
    "diff = (s_lbwght - ns_lbwght)"
   ]
  },
  {
   "cell_type": "code",
   "execution_count": 5,
   "metadata": {
    "collapsed": false
   },
   "outputs": [
    {
     "name": "stdout",
     "output_type": "stream",
     "text": [
      "Difference in log birthweight = 0.0629659722452\n"
     ]
    }
   ],
   "source": [
    "print \"Difference in log birthweight = \" + str(diff)"
   ]
  },
  {
   "cell_type": "markdown",
   "metadata": {},
   "source": [
    "## Run OLS regression "
   ]
  },
  {
   "cell_type": "code",
   "execution_count": 6,
   "metadata": {
    "collapsed": false
   },
   "outputs": [],
   "source": [
    "import statsmodels.formula.api as sm\n",
    "ols = sm.ols(formula=\"lbwght ~ cigs_dummy + mage + meduc + monpre + npvis + fage + feduc + fblck + magesq + npvissq + mblck\", \n",
    "             data=df).fit()\n"
   ]
  },
  {
   "cell_type": "markdown",
   "metadata": {},
   "source": [
    "## Results from the regression. "
   ]
  },
  {
   "cell_type": "code",
   "execution_count": 7,
   "metadata": {
    "collapsed": false
   },
   "outputs": [
    {
     "name": "stdout",
     "output_type": "stream",
     "text": [
      "                            OLS Regression Results                            \n",
      "==============================================================================\n",
      "Dep. Variable:                 lbwght   R-squared:                       0.030\n",
      "Model:                            OLS   Adj. R-squared:                  0.023\n",
      "Method:                 Least Squares   F-statistic:                     4.459\n",
      "Date:                Thu, 06 Sep 2018   Prob (F-statistic):           1.19e-06\n",
      "Time:                        09:44:42   Log-Likelihood:                 445.31\n",
      "No. Observations:                1612   AIC:                            -866.6\n",
      "Df Residuals:                    1600   BIC:                            -802.0\n",
      "Df Model:                          11                                         \n",
      "Covariance Type:            nonrobust                                         \n",
      "==============================================================================\n",
      "                 coef    std err          t      P>|t|      [95.0% Conf. Int.]\n",
      "------------------------------------------------------------------------------\n",
      "Intercept      7.5602      0.140     53.910      0.000         7.285     7.835\n",
      "cigs_dummy    -0.0525      0.017     -3.116      0.002        -0.086    -0.019\n",
      "mage           0.0249      0.009      2.721      0.007         0.007     0.043\n",
      "meduc         -0.0015      0.003     -0.523      0.601        -0.007     0.004\n",
      "monpre         0.0125      0.004      2.913      0.004         0.004     0.021\n",
      "npvis          0.0121      0.004      3.179      0.002         0.005     0.020\n",
      "fage           0.0018      0.001      1.548      0.122        -0.000     0.004\n",
      "feduc          0.0023      0.003      0.911      0.362        -0.003     0.007\n",
      "fblck          0.0665      0.050      1.327      0.185        -0.032     0.165\n",
      "magesq        -0.0004      0.000     -2.748      0.006        -0.001    -0.000\n",
      "npvissq       -0.0002      0.000     -2.018      0.044        -0.000 -6.76e-06\n",
      "mblck         -0.0619      0.051     -1.212      0.226        -0.162     0.038\n",
      "==============================================================================\n",
      "Omnibus:                      795.574   Durbin-Watson:                   1.890\n",
      "Prob(Omnibus):                  0.000   Jarque-Bera (JB):            10828.201\n",
      "Skew:                          -1.962   Prob(JB):                         0.00\n",
      "Kurtosis:                      15.075   Cond. No.                     2.90e+04\n",
      "==============================================================================\n",
      "\n",
      "Warnings:\n",
      "[1] Standard Errors assume that the covariance matrix of the errors is correctly specified.\n",
      "[2] The condition number is large, 2.9e+04. This might indicate that there are\n",
      "strong multicollinearity or other numerical problems.\n"
     ]
    }
   ],
   "source": [
    "print ols.summary()\n"
   ]
  },
  {
   "cell_type": "markdown",
   "metadata": {},
   "source": [
    "## Predict propensity score"
   ]
  },
  {
   "cell_type": "code",
   "execution_count": 8,
   "metadata": {
    "collapsed": false
   },
   "outputs": [
    {
     "name": "stdout",
     "output_type": "stream",
     "text": [
      "Optimization terminated successfully.\n",
      "         Current function value: 0.268796\n",
      "         Iterations 7\n",
      "                           Logit Regression Results                           \n",
      "==============================================================================\n",
      "Dep. Variable:             cigs_dummy   No. Observations:                 1612\n",
      "Model:                          Logit   Df Residuals:                     1601\n",
      "Method:                           MLE   Df Model:                           10\n",
      "Date:                Thu, 06 Sep 2018   Pseudo R-squ.:                 0.08027\n",
      "Time:                        09:44:42   Log-Likelihood:                -433.30\n",
      "converged:                       True   LL-Null:                       -471.12\n",
      "                                        LLR p-value:                 3.575e-12\n",
      "==============================================================================\n",
      "                 coef    std err          z      P>|z|      [95.0% Conf. Int.]\n",
      "------------------------------------------------------------------------------\n",
      "Intercept      7.1956      2.349      3.064      0.002         2.592    11.799\n",
      "mage          -0.2917      0.158     -1.849      0.064        -0.601     0.018\n",
      "meduc         -0.0850      0.055     -1.553      0.120        -0.192     0.022\n",
      "monpre        -0.0431      0.073     -0.591      0.554        -0.186     0.100\n",
      "npvis         -0.1775      0.058     -3.075      0.002        -0.291    -0.064\n",
      "fage           0.0123      0.022      0.565      0.572        -0.030     0.055\n",
      "feduc         -0.2203      0.049     -4.511      0.000        -0.316    -0.125\n",
      "fblck          0.1251      0.980      0.128      0.898        -1.795     2.045\n",
      "magesq         0.0046      0.003      1.716      0.086        -0.001     0.010\n",
      "npvissq        0.0050      0.002      3.038      0.002         0.002     0.008\n",
      "mblck         -0.6471      1.041     -0.621      0.534        -2.688     1.394\n",
      "==============================================================================\n"
     ]
    }
   ],
   "source": [
    "logit = sm.logit(formula=\"cigs_dummy ~ mage + meduc + monpre + npvis + fage + feduc + fblck + magesq + npvissq + mblck\", \n",
    "                data=df).fit()\n",
    "print logit.summary()\n",
    "\n",
    "df['propensity_score'] = logit.predict()"
   ]
  },
  {
   "cell_type": "markdown",
   "metadata": {},
   "source": [
    "## Function to match"
   ]
  },
  {
   "cell_type": "code",
   "execution_count": 9,
   "metadata": {
    "collapsed": false
   },
   "outputs": [],
   "source": [
    "def find_match(value, array):\n",
    "    dist = np.array(abs(array - value))\n",
    "    return dist.argmin()\n",
    "\n",
    "def match(original, matching, propensity_var, outcome_var):\n",
    "    original[\"m_\" + outcome_var] = 0\n",
    "    original[\"m_\" + propensity_var + \"dis\"] = 0\n",
    "\n",
    "    matching_array = matching[propensity_var]\n",
    "    for i in range(len(original)):\n",
    "        pair = find_match(original.loc[i, propensity_var], matching_array)\n",
    "        original.loc[i,\"m_\" + outcome_var] = matching.loc[pair, outcome_var]\n",
    "        original.loc[i,\"m_\" + propensity_var + \"dis\" ] = original.loc[i,propensity_var] - matching_array[pair]\n",
    "\n",
    "    return original \n",
    "        "
   ]
  },
  {
   "cell_type": "markdown",
   "metadata": {},
   "source": [
    "### In this the match is accomplished by finding the nearest propensity score"
   ]
  },
  {
   "cell_type": "markdown",
   "metadata": {},
   "source": [
    "## Match 1:1 "
   ]
  },
  {
   "cell_type": "code",
   "execution_count": 10,
   "metadata": {
    "collapsed": false
   },
   "outputs": [],
   "source": [
    "treated = df.loc[df.cigs_dummy == 1].reset_index()\n",
    "control = df.loc[df.cigs_dummy == 0].reset_index()\n",
    "\n",
    "treated = match(treated, control, 'propensity_score', 'lbwght')\n",
    "control = match(control, treated, 'propensity_score', 'lbwght')"
   ]
  },
  {
   "cell_type": "markdown",
   "metadata": {},
   "source": [
    "## Function to estimate treatment effect"
   ]
  },
  {
   "cell_type": "code",
   "execution_count": 11,
   "metadata": {
    "collapsed": false
   },
   "outputs": [],
   "source": [
    "def avg_treatment_effect(treated, control, outcome_var):\n",
    "    treated['diff'] = treated[outcome_var] - treated['m_' + outcome_var]\n",
    "    control['diff'] = control['m_' + outcome_var] - control[outcome_var] \n",
    "\n",
    "    df = treated.append(control, ignore_index=True)\n",
    "    return df['diff'].mean()\n",
    "\n",
    "def avg_treatment_effect_on_treated(treated,  outcome_var):\n",
    "    df = treated\n",
    "    df['diff'] = df[outcome_var] - df['m_' + outcome_var]\n",
    "    return df['diff'].mean()"
   ]
  },
  {
   "cell_type": "markdown",
   "metadata": {},
   "source": [
    "## Display Average Treatment effect"
   ]
  },
  {
   "cell_type": "code",
   "execution_count": 12,
   "metadata": {
    "collapsed": false
   },
   "outputs": [
    {
     "name": "stdout",
     "output_type": "stream",
     "text": [
      "-0.0445944706805\n"
     ]
    }
   ],
   "source": [
    "print avg_treatment_effect(treated, control, 'lbwght')"
   ]
  },
  {
   "cell_type": "markdown",
   "metadata": {},
   "source": [
    "## Display Average Treatment effect on the Treated"
   ]
  },
  {
   "cell_type": "code",
   "execution_count": 13,
   "metadata": {
    "collapsed": false
   },
   "outputs": [
    {
     "name": "stdout",
     "output_type": "stream",
     "text": [
      "-0.0428045313768\n"
     ]
    }
   ],
   "source": [
    "print avg_treatment_effect_on_treated(treated, 'lbwght')"
   ]
  },
  {
   "cell_type": "markdown",
   "metadata": {},
   "source": [
    "## Plot the distribution of the propensity score of treated vs non-treat"
   ]
  },
  {
   "cell_type": "code",
   "execution_count": 14,
   "metadata": {
    "collapsed": false
   },
   "outputs": [
    {
     "data": {
      "text/html": [
       "<iframe id=\"igraph\" scrolling=\"no\" style=\"border:none;\" seamless=\"seamless\" src=\"https://plot.ly/~jmarfati/45.embed\" height=\"525px\" width=\"100%\"></iframe>"
      ],
      "text/plain": [
       "<plotly.tools.PlotlyDisplay object>"
      ]
     },
     "execution_count": 14,
     "metadata": {},
     "output_type": "execute_result"
    }
   ],
   "source": [
    "import plotly.plotly as py\n",
    "import plotly.figure_factory as ff\n",
    "\n",
    "hist_data = [treated['propensity_score'].tolist(), control['propensity_score'].tolist()]\n",
    "\n",
    "group_labels = ['Treated', 'Control']\n",
    "\n",
    "fig = ff.create_distplot(hist_data, group_labels, bin_size=.1)\n",
    "\n",
    "py.iplot(fig, filename='Distplot with Multiple Datasets')"
   ]
  },
  {
   "cell_type": "markdown",
   "metadata": {},
   "source": [
    "### Since the mean and distribution of the two groups are significantly the matching procedure conducted above do not give conclusive estimates. "
   ]
  },
  {
   "cell_type": "code",
   "execution_count": null,
   "metadata": {
    "collapsed": true
   },
   "outputs": [],
   "source": []
  }
 ],
 "metadata": {
  "kernelspec": {
   "display_name": "Python 2",
   "language": "python",
   "name": "python2"
  },
  "language_info": {
   "codemirror_mode": {
    "name": "ipython",
    "version": 2
   },
   "file_extension": ".py",
   "mimetype": "text/x-python",
   "name": "python",
   "nbconvert_exporter": "python",
   "pygments_lexer": "ipython2",
   "version": "2.7.13"
  }
 },
 "nbformat": 4,
 "nbformat_minor": 2
}
