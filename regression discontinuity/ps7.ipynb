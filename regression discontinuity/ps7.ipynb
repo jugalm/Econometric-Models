{
 "cells": [
  {
   "cell_type": "markdown",
   "metadata": {},
   "source": [
    "# PS 7 (Jugal Marfatia)\n",
    "\n",
    "## Question 2"
   ]
  },
  {
   "cell_type": "code",
   "execution_count": 1,
   "metadata": {},
   "outputs": [],
   "source": [
    "import pandas as pd\n",
    "import numpy as np\n",
    "\n",
    "\n",
    "df = pd.read_csv('http://www.stern.nyu.edu/~wgreene/Text/Edition7/TableF6-5.csv')"
   ]
  },
  {
   "cell_type": "markdown",
   "metadata": {},
   "source": [
    "## Multiplying AVGSALRY by 100,000 for readability."
   ]
  },
  {
   "cell_type": "code",
   "execution_count": 2,
   "metadata": {},
   "outputs": [],
   "source": [
    "df['AVGSALRY'] = df['AVGSALRY']*100000"
   ]
  },
  {
   "cell_type": "markdown",
   "metadata": {},
   "source": [
    "## Set x* = mean(ATTEND) \n",
    "\n",
    "## Implies treated = 1 if  ATTEND >= x* and 0 otherwise"
   ]
  },
  {
   "cell_type": "code",
   "execution_count": 3,
   "metadata": {},
   "outputs": [],
   "source": [
    "df['ATTEND_Treat'] = (df['ATTEND'] >= df['ATTEND'].mean()).astype(int)"
   ]
  },
  {
   "cell_type": "code",
   "execution_count": 4,
   "metadata": {},
   "outputs": [
    {
     "data": {
      "text/html": [
       "<div>\n",
       "<style scoped>\n",
       "    .dataframe tbody tr th:only-of-type {\n",
       "        vertical-align: middle;\n",
       "    }\n",
       "\n",
       "    .dataframe tbody tr th {\n",
       "        vertical-align: top;\n",
       "    }\n",
       "\n",
       "    .dataframe thead th {\n",
       "        text-align: right;\n",
       "    }\n",
       "</style>\n",
       "<table border=\"1\" class=\"dataframe\">\n",
       "  <thead>\n",
       "    <tr style=\"text-align: right;\">\n",
       "      <th></th>\n",
       "      <th>YEARID</th>\n",
       "      <th>TEAM</th>\n",
       "      <th>AVGSALRY</th>\n",
       "      <th>ALLSTARS</th>\n",
       "      <th>ATTEND</th>\n",
       "      <th>WINS</th>\n",
       "      <th>TI</th>\n",
       "      <th>ATTEND_Treat</th>\n",
       "    </tr>\n",
       "  </thead>\n",
       "  <tbody>\n",
       "    <tr>\n",
       "      <th>0</th>\n",
       "      <td>1997</td>\n",
       "      <td>1</td>\n",
       "      <td>100437.0</td>\n",
       "      <td>1</td>\n",
       "      <td>1976886.0</td>\n",
       "      <td>84</td>\n",
       "      <td>5</td>\n",
       "      <td>0</td>\n",
       "    </tr>\n",
       "    <tr>\n",
       "      <th>1</th>\n",
       "      <td>1998</td>\n",
       "      <td>1</td>\n",
       "      <td>121414.7</td>\n",
       "      <td>2</td>\n",
       "      <td>2376783.0</td>\n",
       "      <td>85</td>\n",
       "      <td>5</td>\n",
       "      <td>1</td>\n",
       "    </tr>\n",
       "    <tr>\n",
       "      <th>2</th>\n",
       "      <td>1999</td>\n",
       "      <td>1</td>\n",
       "      <td>138470.4</td>\n",
       "      <td>1</td>\n",
       "      <td>2324943.0</td>\n",
       "      <td>69</td>\n",
       "      <td>5</td>\n",
       "      <td>1</td>\n",
       "    </tr>\n",
       "    <tr>\n",
       "      <th>3</th>\n",
       "      <td>2000</td>\n",
       "      <td>1</td>\n",
       "      <td>171547.2</td>\n",
       "      <td>2</td>\n",
       "      <td>2170233.0</td>\n",
       "      <td>81</td>\n",
       "      <td>5</td>\n",
       "      <td>0</td>\n",
       "    </tr>\n",
       "    <tr>\n",
       "      <th>4</th>\n",
       "      <td>2001</td>\n",
       "      <td>1</td>\n",
       "      <td>158450.6</td>\n",
       "      <td>2</td>\n",
       "      <td>2248722.0</td>\n",
       "      <td>75</td>\n",
       "      <td>5</td>\n",
       "      <td>1</td>\n",
       "    </tr>\n",
       "  </tbody>\n",
       "</table>\n",
       "</div>"
      ],
      "text/plain": [
       "   YEARID  TEAM  AVGSALRY  ALLSTARS     ATTEND  WINS  TI                  \\\n",
       "0    1997     1  100437.0         1  1976886.0    84                   5   \n",
       "1    1998     1  121414.7         2  2376783.0    85                   5   \n",
       "2    1999     1  138470.4         1  2324943.0    69                   5   \n",
       "3    2000     1  171547.2         2  2170233.0    81                   5   \n",
       "4    2001     1  158450.6         2  2248722.0    75                   5   \n",
       "\n",
       "   ATTEND_Treat  \n",
       "0             0  \n",
       "1             1  \n",
       "2             1  \n",
       "3             0  \n",
       "4             1  "
      ]
     },
     "execution_count": 4,
     "metadata": {},
     "output_type": "execute_result"
    }
   ],
   "source": [
    "df.head()"
   ]
  },
  {
   "cell_type": "markdown",
   "metadata": {},
   "source": [
    "## I set the bandwidth = standard deviation of ATTEND.\n",
    "\n",
    "### Below is the range of bandwith"
   ]
  },
  {
   "cell_type": "code",
   "execution_count": 5,
   "metadata": {},
   "outputs": [
    {
     "data": {
      "text/plain": [
       "(1758897.2534016445, 2648661.6696752785)"
      ]
     },
     "execution_count": 5,
     "metadata": {},
     "output_type": "execute_result"
    }
   ],
   "source": [
    "df['ATTEND'].mean() - df['ATTEND'].std(),  df['ATTEND'].std() + df['ATTEND'].mean()"
   ]
  },
  {
   "cell_type": "markdown",
   "metadata": {},
   "source": [
    "## Create two dataframes that upper and lower that include only observations in the bandwidth"
   ]
  },
  {
   "cell_type": "code",
   "execution_count": 6,
   "metadata": {},
   "outputs": [],
   "source": [
    "df_upper = df[(df['ATTEND_Treat'] ==1) &  ( df['ATTEND'] < df['ATTEND'].std() + df['ATTEND'].mean())]\n",
    "df_lower = df[(df['ATTEND_Treat'] ==0) &  ( df['ATTEND'] > df['ATTEND'].mean() - df['ATTEND'].std())]"
   ]
  },
  {
   "cell_type": "markdown",
   "metadata": {},
   "source": [
    "## Kernel estimation using th formula in notes. "
   ]
  },
  {
   "cell_type": "code",
   "execution_count": 7,
   "metadata": {},
   "outputs": [
    {
     "data": {
      "text/plain": [
       "0.007021100854385398"
      ]
     },
     "execution_count": 7,
     "metadata": {},
     "output_type": "execute_result"
    }
   ],
   "source": [
    "df_upper['AVGSALRY'].sum() / df_upper['ATTEND'].sum() - df_lower['AVGSALRY'].sum() / df_lower['ATTEND'].sum()"
   ]
  },
  {
   "cell_type": "markdown",
   "metadata": {},
   "source": [
    "## Local linear estimation.\n"
   ]
  },
  {
   "cell_type": "code",
   "execution_count": 8,
   "metadata": {},
   "outputs": [
    {
     "name": "stdout",
     "output_type": "stream",
     "text": [
      "                            OLS Regression Results                            \n",
      "==============================================================================\n",
      "Dep. Variable:               AVGSALRY   R-squared:                       0.144\n",
      "Model:                            OLS   Adj. R-squared:                  0.138\n",
      "Method:                 Least Squares   F-statistic:                     25.39\n",
      "Date:                Thu, 25 Oct 2018   Prob (F-statistic):           6.43e-11\n",
      "Time:                        13:04:06   Log-Likelihood:                -3719.3\n",
      "No. Observations:                 305   AIC:                             7445.\n",
      "Df Residuals:                     302   BIC:                             7456.\n",
      "Df Model:                           2                                         \n",
      "Covariance Type:            nonrobust                                         \n",
      "================================================================================\n",
      "                   coef    std err          t      P>|t|      [0.025      0.975]\n",
      "--------------------------------------------------------------------------------\n",
      "const        -8.765e+04   4.27e+04     -2.053      0.041   -1.72e+05   -3622.759\n",
      "ATTEND_Treat  -856.8749   1.03e+04     -0.083      0.934   -2.11e+04    1.94e+04\n",
      "ATTEND           0.0850      0.021      3.983      0.000       0.043       0.127\n",
      "==============================================================================\n",
      "Omnibus:                       52.646   Durbin-Watson:                   1.281\n",
      "Prob(Omnibus):                  0.000   Jarque-Bera (JB):               86.382\n",
      "Skew:                           0.995   Prob(JB):                     1.75e-19\n",
      "Kurtosis:                       4.685   Cond. No.                     3.42e+07\n",
      "==============================================================================\n",
      "\n",
      "Warnings:\n",
      "[1] Standard Errors assume that the covariance matrix of the errors is correctly specified.\n",
      "[2] The condition number is large, 3.42e+07. This might indicate that there are\n",
      "strong multicollinearity or other numerical problems.\n"
     ]
    }
   ],
   "source": [
    "import statsmodels.api as sm\n",
    "\n",
    "df1 = df_upper.append(df_lower)\n",
    "exog_vars = ['ATTEND_Treat', 'ATTEND']\n",
    "exog = sm.add_constant(df1[exog_vars])\n",
    "\n",
    "mod = sm.OLS(df1['AVGSALRY'],  exog)\n",
    "res = mod.fit()\n",
    "print(res.summary())"
   ]
  },
  {
   "cell_type": "markdown",
   "metadata": {},
   "source": [
    "## Local linear estimation with interaction for x_i\n"
   ]
  },
  {
   "cell_type": "code",
   "execution_count": 9,
   "metadata": {},
   "outputs": [
    {
     "name": "stdout",
     "output_type": "stream",
     "text": [
      "                            OLS Regression Results                            \n",
      "==============================================================================\n",
      "Dep. Variable:               AVGSALRY   R-squared:                       0.152\n",
      "Model:                            OLS   Adj. R-squared:                  0.144\n",
      "Method:                 Least Squares   F-statistic:                     17.99\n",
      "Date:                Thu, 25 Oct 2018   Prob (F-statistic):           9.15e-11\n",
      "Time:                        13:04:06   Log-Likelihood:                -3717.8\n",
      "No. Observations:                 305   AIC:                             7444.\n",
      "Df Residuals:                     301   BIC:                             7459.\n",
      "Df Model:                           3                                         \n",
      "Covariance Type:            nonrobust                                         \n",
      "================================================================================\n",
      "                   coef    std err          t      P>|t|      [0.025      0.975]\n",
      "--------------------------------------------------------------------------------\n",
      "const        -2.937e+04   5.47e+04     -0.537      0.592   -1.37e+05    7.83e+04\n",
      "ATTEND_Treat -1.658e+05   9.78e+04     -1.695      0.091   -3.58e+05    2.67e+04\n",
      "ATTEND_upper     0.1295      0.034      3.833      0.000       0.063       0.196\n",
      "ATTEND_lower     0.0558      0.027      2.037      0.043       0.002       0.110\n",
      "==============================================================================\n",
      "Omnibus:                       47.998   Durbin-Watson:                   1.275\n",
      "Prob(Omnibus):                  0.000   Jarque-Bera (JB):               75.172\n",
      "Skew:                           0.939   Prob(JB):                     4.75e-17\n",
      "Kurtosis:                       4.546   Cond. No.                     5.89e+07\n",
      "==============================================================================\n",
      "\n",
      "Warnings:\n",
      "[1] Standard Errors assume that the covariance matrix of the errors is correctly specified.\n",
      "[2] The condition number is large, 5.89e+07. This might indicate that there are\n",
      "strong multicollinearity or other numerical problems.\n"
     ]
    }
   ],
   "source": [
    "df1['ATTEND_upper'] = df1['ATTEND'] * (df1['ATTEND_Treat'])\n",
    "df1['ATTEND_lower'] = df1['ATTEND'] * (df1['ATTEND_Treat'] != 1)\n",
    "\n",
    "exog_vars = ['ATTEND_Treat',  'ATTEND_upper', 'ATTEND_lower']\n",
    "exog = sm.add_constant(df1[exog_vars])\n",
    "\n",
    "mod = sm.OLS(df1['AVGSALRY'],  exog)\n",
    "res = mod.fit()\n",
    "print(res.summary())"
   ]
  },
  {
   "cell_type": "markdown",
   "metadata": {},
   "source": [
    "## Polynomial  estimation\n"
   ]
  },
  {
   "cell_type": "code",
   "execution_count": 10,
   "metadata": {},
   "outputs": [
    {
     "name": "stdout",
     "output_type": "stream",
     "text": [
      "                            OLS Regression Results                            \n",
      "==============================================================================\n",
      "Dep. Variable:               AVGSALRY   R-squared:                       0.148\n",
      "Model:                            OLS   Adj. R-squared:                  0.140\n",
      "Method:                 Least Squares   F-statistic:                     17.49\n",
      "Date:                Thu, 25 Oct 2018   Prob (F-statistic):           1.72e-10\n",
      "Time:                        13:04:06   Log-Likelihood:                -3718.5\n",
      "No. Observations:                 305   AIC:                             7445.\n",
      "Df Residuals:                     301   BIC:                             7460.\n",
      "Df Model:                           3                                         \n",
      "Covariance Type:            nonrobust                                         \n",
      "================================================================================\n",
      "                   coef    std err          t      P>|t|      [0.025      0.975]\n",
      "--------------------------------------------------------------------------------\n",
      "const         1.961e+05    2.3e+05      0.854      0.394   -2.56e+05    6.48e+05\n",
      "ATTEND_Treat -2866.0645   1.04e+04     -0.276      0.783   -2.33e+04    1.76e+04\n",
      "ATTEND          -0.1807      0.212     -0.851      0.396      -0.599       0.237\n",
      "ATTEND_sq     6.163e-08    4.9e-08      1.257      0.210   -3.48e-08    1.58e-07\n",
      "==============================================================================\n",
      "Omnibus:                       49.602   Durbin-Watson:                   1.277\n",
      "Prob(Omnibus):                  0.000   Jarque-Bera (JB):               78.909\n",
      "Skew:                           0.958   Prob(JB):                     7.33e-18\n",
      "Kurtosis:                       4.592   Cond. No.                     4.01e+14\n",
      "==============================================================================\n",
      "\n",
      "Warnings:\n",
      "[1] Standard Errors assume that the covariance matrix of the errors is correctly specified.\n",
      "[2] The condition number is large, 4.01e+14. This might indicate that there are\n",
      "strong multicollinearity or other numerical problems.\n"
     ]
    }
   ],
   "source": [
    "df1['ATTEND_sq'] = df1['ATTEND']**2\n",
    "exog_vars = ['ATTEND_Treat', 'ATTEND', 'ATTEND_sq']\n",
    "exog = sm.add_constant(df1[exog_vars])\n",
    "\n",
    "mod = sm.OLS(df1['AVGSALRY'],  exog)\n",
    "res = mod.fit()\n",
    "print(res.summary())"
   ]
  },
  {
   "cell_type": "markdown",
   "metadata": {},
   "source": [
    "## Local linear estimation with interaction for x_i\n"
   ]
  },
  {
   "cell_type": "code",
   "execution_count": 11,
   "metadata": {},
   "outputs": [
    {
     "name": "stdout",
     "output_type": "stream",
     "text": [
      "                            OLS Regression Results                            \n",
      "==============================================================================\n",
      "Dep. Variable:               AVGSALRY   R-squared:                       0.152\n",
      "Model:                            OLS   Adj. R-squared:                  0.143\n",
      "Method:                 Least Squares   F-statistic:                     17.94\n",
      "Date:                Thu, 25 Oct 2018   Prob (F-statistic):           9.71e-11\n",
      "Time:                        13:04:06   Log-Likelihood:                -3717.9\n",
      "No. Observations:                 305   AIC:                             7444.\n",
      "Df Residuals:                     301   BIC:                             7459.\n",
      "Df Model:                           3                                         \n",
      "Covariance Type:            nonrobust                                         \n",
      "===================================================================================\n",
      "                      coef    std err          t      P>|t|      [0.025      0.975]\n",
      "-----------------------------------------------------------------------------------\n",
      "const            2.479e-09   3.98e-08      0.062      0.950   -7.58e-08    8.07e-08\n",
      "ATTEND_Treat    -2.682e-08   2.78e-08     -0.965      0.336   -8.15e-08    2.79e-08\n",
      "ATTEND_sq_upper  3.348e-08   1.39e-08      2.403      0.017    6.06e-09    6.09e-08\n",
      "ATTEND_sq_lower  5.969e-09   1.39e-08      0.429      0.668   -2.14e-08    3.34e-08\n",
      "ATTEND_upper       -0.0324      0.034     -0.964      0.336      -0.099       0.034\n",
      "ATTEND_lower        0.0291      0.028      1.037      0.300      -0.026       0.084\n",
      "==============================================================================\n",
      "Omnibus:                       48.086   Durbin-Watson:                   1.276\n",
      "Prob(Omnibus):                  0.000   Jarque-Bera (JB):               75.409\n",
      "Skew:                           0.940   Prob(JB):                     4.22e-17\n",
      "Kurtosis:                       4.550   Cond. No.                     2.74e+15\n",
      "==============================================================================\n",
      "\n",
      "Warnings:\n",
      "[1] Standard Errors assume that the covariance matrix of the errors is correctly specified.\n",
      "[2] The condition number is large, 2.74e+15. This might indicate that there are\n",
      "strong multicollinearity or other numerical problems.\n"
     ]
    }
   ],
   "source": [
    "df1['ATTEND_sq_upper'] = df1['ATTEND_sq'] * (df1['ATTEND_Treat'])\n",
    "df1['ATTEND_sq_lower'] = df1['ATTEND_sq'] * (df1['ATTEND_Treat'] != 1)\n",
    "\n",
    "exog_vars = ['ATTEND_Treat', 'ATTEND_sq_upper', 'ATTEND_sq_lower',  'ATTEND_upper', 'ATTEND_lower']\n",
    "exog = sm.add_constant(df1[exog_vars])\n",
    "\n",
    "mod = sm.OLS(df1['AVGSALRY'],  exog)\n",
    "res = mod.fit()\n",
    "print(res.summary())"
   ]
  },
  {
   "cell_type": "markdown",
   "metadata": {},
   "source": [
    "## Plot the data with vertical line for cutoff i.e. x*"
   ]
  },
  {
   "cell_type": "code",
   "execution_count": 12,
   "metadata": {},
   "outputs": [
    {
     "data": {
      "text/plain": [
       "<matplotlib.lines.Line2D at 0x1c146b7ba8>"
      ]
     },
     "execution_count": 12,
     "metadata": {},
     "output_type": "execute_result"
    },
    {
     "data": {
      "image/png": "[encoded data removed]",
      "text/plain": [
       "<Figure size 432x288 with 1 Axes>"
      ]
     },
     "metadata": {},
     "output_type": "display_data"
    }
   ],
   "source": [
    "import matplotlib.pyplot as plt\n",
    "plt.scatter(df1['ATTEND'], df1['AVGSALRY'])\n",
    "plt.axvline(x=df['ATTEND'].mean())"
   ]
  },
  {
   "cell_type": "markdown",
   "metadata": {},
   "source": [
    "## As we can see in the above graph there is no regression discontinuity at the mean and therefore there is no economic or statistically significant impact of attendance on average salary in any of the regressions."
   ]
  },
  {
   "cell_type": "code",
   "execution_count": null,
   "metadata": {},
   "outputs": [],
   "source": []
  }
 ],
 "metadata": {
  "kernelspec": {
   "display_name": "Python 3",
   "language": "python",
   "name": "python3"
  },
  "language_info": {
   "codemirror_mode": {
    "name": "ipython",
    "version": 3
   },
   "file_extension": ".py",
   "mimetype": "text/x-python",
   "name": "python",
   "nbconvert_exporter": "python",
   "pygments_lexer": "ipython3",
   "version": "3.6.5"
  }
 },
 "nbformat": 4,
 "nbformat_minor": 2
}
